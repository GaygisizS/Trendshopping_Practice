{
 "cells": [
  {
   "cell_type": "markdown",
   "metadata": {},
   "source": [
    "# About the Dataset\n",
    "- Customer ID =  A unique identification number that identifies the customer.\n",
    "- Age = The customer's age.\n",
    "- Gender =The customer's gender (Female, Male, etc.).\n",
    "- Item Purchased = The name of the product the customer purchased.\n",
    "- Category = The category the product belongs to (e.g., clothing, electronics).\n",
    "- Purchase Amount (USD) = The total amount of the customer's purchase (in US dollars).\n",
    "- Location = The geographic region or city where the customer is located.\n",
    "- Size = The size of the purchased item (e.g., S, M, L, XL).\n",
    "- Color = The color of the purchased item.\n",
    "- Season = The season when the purchase occurred (e.g., summer, winter).\n",
    "- Review Rating = The rating given by the customer about the product (usually on a scale of 1-5).\n",
    "- Subscription Status = Whether the customer is a subscriber.\n",
    "- Payment Method = The payment method the customer uses to pay (e.g., credit card, PayPal).\n",
    "- Shipping Type = How the product is shipped (e.g., standard shipping, express shipping).\n",
    "- Discount Applied = The discount rate applied at the time of purchase.\n",
    "- Promo Code Used = The promotional code the customer used during the purchase.\n",
    "- Previous Purchases = A list of the customer's past purchases.\n",
    "- Preferred Payment Method = The customer's preferred payment method.\n",
    "- Frequency of Purchases = How often the customer makes purchases (e.g., once a week, once a month)."
   ]
  },
  {
   "cell_type": "code",
   "execution_count": 1,
   "metadata": {
    "execution": {
     "iopub.execute_input": "2024-12-25T18:30:13.687521Z",
     "iopub.status.busy": "2024-12-25T18:30:13.687096Z",
     "iopub.status.idle": "2024-12-25T18:30:15.007211Z",
     "shell.execute_reply": "2024-12-25T18:30:15.006051Z",
     "shell.execute_reply.started": "2024-12-25T18:30:13.687491Z"
    },
    "trusted": true
   },
   "outputs": [],
   "source": [
    "import pandas as pd\n",
    "import numpy as np\n",
    "import matplotlib.pyplot as plt\n",
    "import seaborn as sns\n",
    "import warnings\n",
    "warnings.filterwarnings(\"ignore\")\n",
    "warnings.warn(\"this will not show\")"
   ]
  },
  {
   "cell_type": "code",
   "execution_count": 3,
   "metadata": {
    "execution": {
     "iopub.execute_input": "2024-12-25T18:33:12.343612Z",
     "iopub.status.busy": "2024-12-25T18:33:12.343027Z",
     "iopub.status.idle": "2024-12-25T18:33:12.418723Z",
     "shell.execute_reply": "2024-12-25T18:33:12.417578Z",
     "shell.execute_reply.started": "2024-12-25T18:33:12.343577Z"
    },
    "trusted": true
   },
   "outputs": [
    {
     "data": {
      "text/html": [
       "<div>\n",
       "<style scoped>\n",
       "    .dataframe tbody tr th:only-of-type {\n",
       "        vertical-align: middle;\n",
       "    }\n",
       "\n",
       "    .dataframe tbody tr th {\n",
       "        vertical-align: top;\n",
       "    }\n",
       "\n",
       "    .dataframe thead th {\n",
       "        text-align: right;\n",
       "    }\n",
       "</style>\n",
       "<table border=\"1\" class=\"dataframe\">\n",
       "  <thead>\n",
       "    <tr style=\"text-align: right;\">\n",
       "      <th></th>\n",
       "      <th>Customer ID</th>\n",
       "      <th>Age</th>\n",
       "      <th>Gender</th>\n",
       "      <th>Item Purchased</th>\n",
       "      <th>Category</th>\n",
       "      <th>Purchase Amount (USD)</th>\n",
       "      <th>Location</th>\n",
       "      <th>Size</th>\n",
       "      <th>Color</th>\n",
       "      <th>Season</th>\n",
       "      <th>Review Rating</th>\n",
       "      <th>Subscription Status</th>\n",
       "      <th>Payment Method</th>\n",
       "      <th>Shipping Type</th>\n",
       "      <th>Discount Applied</th>\n",
       "      <th>Promo Code Used</th>\n",
       "      <th>Previous Purchases</th>\n",
       "      <th>Preferred Payment Method</th>\n",
       "      <th>Frequency of Purchases</th>\n",
       "    </tr>\n",
       "  </thead>\n",
       "  <tbody>\n",
       "    <tr>\n",
       "      <th>0</th>\n",
       "      <td>1</td>\n",
       "      <td>55</td>\n",
       "      <td>Male</td>\n",
       "      <td>Blouse</td>\n",
       "      <td>Clothing</td>\n",
       "      <td>53</td>\n",
       "      <td>Kentucky</td>\n",
       "      <td>L</td>\n",
       "      <td>Gray</td>\n",
       "      <td>Winter</td>\n",
       "      <td>3.1</td>\n",
       "      <td>Yes</td>\n",
       "      <td>Credit Card</td>\n",
       "      <td>Express</td>\n",
       "      <td>Yes</td>\n",
       "      <td>Yes</td>\n",
       "      <td>14</td>\n",
       "      <td>Venmo</td>\n",
       "      <td>Fortnightly</td>\n",
       "    </tr>\n",
       "    <tr>\n",
       "      <th>1</th>\n",
       "      <td>2</td>\n",
       "      <td>19</td>\n",
       "      <td>Male</td>\n",
       "      <td>Sweater</td>\n",
       "      <td>Clothing</td>\n",
       "      <td>64</td>\n",
       "      <td>Maine</td>\n",
       "      <td>L</td>\n",
       "      <td>Maroon</td>\n",
       "      <td>Winter</td>\n",
       "      <td>3.1</td>\n",
       "      <td>Yes</td>\n",
       "      <td>Bank Transfer</td>\n",
       "      <td>Express</td>\n",
       "      <td>Yes</td>\n",
       "      <td>Yes</td>\n",
       "      <td>2</td>\n",
       "      <td>Cash</td>\n",
       "      <td>Fortnightly</td>\n",
       "    </tr>\n",
       "    <tr>\n",
       "      <th>2</th>\n",
       "      <td>3</td>\n",
       "      <td>50</td>\n",
       "      <td>Male</td>\n",
       "      <td>Jeans</td>\n",
       "      <td>Clothing</td>\n",
       "      <td>73</td>\n",
       "      <td>Massachusetts</td>\n",
       "      <td>S</td>\n",
       "      <td>Maroon</td>\n",
       "      <td>Spring</td>\n",
       "      <td>3.1</td>\n",
       "      <td>Yes</td>\n",
       "      <td>Cash</td>\n",
       "      <td>Free Shipping</td>\n",
       "      <td>Yes</td>\n",
       "      <td>Yes</td>\n",
       "      <td>23</td>\n",
       "      <td>Credit Card</td>\n",
       "      <td>Weekly</td>\n",
       "    </tr>\n",
       "    <tr>\n",
       "      <th>3</th>\n",
       "      <td>4</td>\n",
       "      <td>21</td>\n",
       "      <td>Male</td>\n",
       "      <td>Sandals</td>\n",
       "      <td>Footwear</td>\n",
       "      <td>90</td>\n",
       "      <td>Rhode Island</td>\n",
       "      <td>M</td>\n",
       "      <td>Maroon</td>\n",
       "      <td>Spring</td>\n",
       "      <td>3.5</td>\n",
       "      <td>Yes</td>\n",
       "      <td>PayPal</td>\n",
       "      <td>Next Day Air</td>\n",
       "      <td>Yes</td>\n",
       "      <td>Yes</td>\n",
       "      <td>49</td>\n",
       "      <td>PayPal</td>\n",
       "      <td>Weekly</td>\n",
       "    </tr>\n",
       "    <tr>\n",
       "      <th>4</th>\n",
       "      <td>5</td>\n",
       "      <td>45</td>\n",
       "      <td>Male</td>\n",
       "      <td>Blouse</td>\n",
       "      <td>Clothing</td>\n",
       "      <td>49</td>\n",
       "      <td>Oregon</td>\n",
       "      <td>M</td>\n",
       "      <td>Turquoise</td>\n",
       "      <td>Spring</td>\n",
       "      <td>2.7</td>\n",
       "      <td>Yes</td>\n",
       "      <td>Cash</td>\n",
       "      <td>Free Shipping</td>\n",
       "      <td>Yes</td>\n",
       "      <td>Yes</td>\n",
       "      <td>31</td>\n",
       "      <td>PayPal</td>\n",
       "      <td>Annually</td>\n",
       "    </tr>\n",
       "  </tbody>\n",
       "</table>\n",
       "</div>"
      ],
      "text/plain": [
       "   Customer ID  Age Gender Item Purchased  Category  Purchase Amount (USD)  \\\n",
       "0            1   55   Male         Blouse  Clothing                     53   \n",
       "1            2   19   Male        Sweater  Clothing                     64   \n",
       "2            3   50   Male          Jeans  Clothing                     73   \n",
       "3            4   21   Male        Sandals  Footwear                     90   \n",
       "4            5   45   Male         Blouse  Clothing                     49   \n",
       "\n",
       "        Location Size      Color  Season  Review Rating Subscription Status  \\\n",
       "0       Kentucky    L       Gray  Winter            3.1                 Yes   \n",
       "1          Maine    L     Maroon  Winter            3.1                 Yes   \n",
       "2  Massachusetts    S     Maroon  Spring            3.1                 Yes   \n",
       "3   Rhode Island    M     Maroon  Spring            3.5                 Yes   \n",
       "4         Oregon    M  Turquoise  Spring            2.7                 Yes   \n",
       "\n",
       "  Payment Method  Shipping Type Discount Applied Promo Code Used  \\\n",
       "0    Credit Card        Express              Yes             Yes   \n",
       "1  Bank Transfer        Express              Yes             Yes   \n",
       "2           Cash  Free Shipping              Yes             Yes   \n",
       "3         PayPal   Next Day Air              Yes             Yes   \n",
       "4           Cash  Free Shipping              Yes             Yes   \n",
       "\n",
       "   Previous Purchases Preferred Payment Method Frequency of Purchases  \n",
       "0                  14                    Venmo            Fortnightly  \n",
       "1                   2                     Cash            Fortnightly  \n",
       "2                  23              Credit Card                 Weekly  \n",
       "3                  49                   PayPal                 Weekly  \n",
       "4                  31                   PayPal               Annually  "
      ]
     },
     "execution_count": 3,
     "metadata": {},
     "output_type": "execute_result"
    }
   ],
   "source": [
    "df=pd.read_csv(\"shopping_trends.csv\")\n",
    "df.head()"
   ]
  },
  {
   "cell_type": "code",
   "execution_count": 4,
   "metadata": {
    "execution": {
     "iopub.execute_input": "2024-12-25T18:35:06.701473Z",
     "iopub.status.busy": "2024-12-25T18:35:06.701032Z",
     "iopub.status.idle": "2024-12-25T18:35:06.707149Z",
     "shell.execute_reply": "2024-12-25T18:35:06.705968Z",
     "shell.execute_reply.started": "2024-12-25T18:35:06.701436Z"
    },
    "trusted": true
   },
   "outputs": [],
   "source": [
    "df1=df.copy()"
   ]
  },
  {
   "cell_type": "code",
   "execution_count": 5,
   "metadata": {
    "execution": {
     "iopub.execute_input": "2024-12-25T18:35:31.114085Z",
     "iopub.status.busy": "2024-12-25T18:35:31.113752Z",
     "iopub.status.idle": "2024-12-25T18:35:31.144627Z",
     "shell.execute_reply": "2024-12-25T18:35:31.143359Z",
     "shell.execute_reply.started": "2024-12-25T18:35:31.114059Z"
    },
    "trusted": true
   },
   "outputs": [
    {
     "name": "stdout",
     "output_type": "stream",
     "text": [
      "<class 'pandas.core.frame.DataFrame'>\n",
      "RangeIndex: 3900 entries, 0 to 3899\n",
      "Data columns (total 19 columns):\n",
      " #   Column                    Non-Null Count  Dtype  \n",
      "---  ------                    --------------  -----  \n",
      " 0   Customer ID               3900 non-null   int64  \n",
      " 1   Age                       3900 non-null   int64  \n",
      " 2   Gender                    3900 non-null   object \n",
      " 3   Item Purchased            3900 non-null   object \n",
      " 4   Category                  3900 non-null   object \n",
      " 5   Purchase Amount (USD)     3900 non-null   int64  \n",
      " 6   Location                  3900 non-null   object \n",
      " 7   Size                      3900 non-null   object \n",
      " 8   Color                     3900 non-null   object \n",
      " 9   Season                    3900 non-null   object \n",
      " 10  Review Rating             3900 non-null   float64\n",
      " 11  Subscription Status       3900 non-null   object \n",
      " 12  Payment Method            3900 non-null   object \n",
      " 13  Shipping Type             3900 non-null   object \n",
      " 14  Discount Applied          3900 non-null   object \n",
      " 15  Promo Code Used           3900 non-null   object \n",
      " 16  Previous Purchases        3900 non-null   int64  \n",
      " 17  Preferred Payment Method  3900 non-null   object \n",
      " 18  Frequency of Purchases    3900 non-null   object \n",
      "dtypes: float64(1), int64(4), object(14)\n",
      "memory usage: 579.0+ KB\n"
     ]
    }
   ],
   "source": [
    "df.info()"
   ]
  },
  {
   "cell_type": "code",
   "execution_count": 6,
   "metadata": {
    "execution": {
     "iopub.execute_input": "2024-12-25T18:35:44.693875Z",
     "iopub.status.busy": "2024-12-25T18:35:44.693496Z",
     "iopub.status.idle": "2024-12-25T18:35:44.723626Z",
     "shell.execute_reply": "2024-12-25T18:35:44.722551Z",
     "shell.execute_reply.started": "2024-12-25T18:35:44.693844Z"
    },
    "trusted": true
   },
   "outputs": [
    {
     "data": {
      "text/html": [
       "<div>\n",
       "<style scoped>\n",
       "    .dataframe tbody tr th:only-of-type {\n",
       "        vertical-align: middle;\n",
       "    }\n",
       "\n",
       "    .dataframe tbody tr th {\n",
       "        vertical-align: top;\n",
       "    }\n",
       "\n",
       "    .dataframe thead th {\n",
       "        text-align: right;\n",
       "    }\n",
       "</style>\n",
       "<table border=\"1\" class=\"dataframe\">\n",
       "  <thead>\n",
       "    <tr style=\"text-align: right;\">\n",
       "      <th></th>\n",
       "      <th>count</th>\n",
       "      <th>mean</th>\n",
       "      <th>std</th>\n",
       "      <th>min</th>\n",
       "      <th>25%</th>\n",
       "      <th>50%</th>\n",
       "      <th>75%</th>\n",
       "      <th>max</th>\n",
       "    </tr>\n",
       "  </thead>\n",
       "  <tbody>\n",
       "    <tr>\n",
       "      <th>Customer ID</th>\n",
       "      <td>3900.0</td>\n",
       "      <td>1950.500000</td>\n",
       "      <td>1125.977353</td>\n",
       "      <td>1.0</td>\n",
       "      <td>975.75</td>\n",
       "      <td>1950.5</td>\n",
       "      <td>2925.25</td>\n",
       "      <td>3900.0</td>\n",
       "    </tr>\n",
       "    <tr>\n",
       "      <th>Age</th>\n",
       "      <td>3900.0</td>\n",
       "      <td>44.068462</td>\n",
       "      <td>15.207589</td>\n",
       "      <td>18.0</td>\n",
       "      <td>31.00</td>\n",
       "      <td>44.0</td>\n",
       "      <td>57.00</td>\n",
       "      <td>70.0</td>\n",
       "    </tr>\n",
       "    <tr>\n",
       "      <th>Purchase Amount (USD)</th>\n",
       "      <td>3900.0</td>\n",
       "      <td>59.764359</td>\n",
       "      <td>23.685392</td>\n",
       "      <td>20.0</td>\n",
       "      <td>39.00</td>\n",
       "      <td>60.0</td>\n",
       "      <td>81.00</td>\n",
       "      <td>100.0</td>\n",
       "    </tr>\n",
       "    <tr>\n",
       "      <th>Review Rating</th>\n",
       "      <td>3900.0</td>\n",
       "      <td>3.749949</td>\n",
       "      <td>0.716223</td>\n",
       "      <td>2.5</td>\n",
       "      <td>3.10</td>\n",
       "      <td>3.7</td>\n",
       "      <td>4.40</td>\n",
       "      <td>5.0</td>\n",
       "    </tr>\n",
       "    <tr>\n",
       "      <th>Previous Purchases</th>\n",
       "      <td>3900.0</td>\n",
       "      <td>25.351538</td>\n",
       "      <td>14.447125</td>\n",
       "      <td>1.0</td>\n",
       "      <td>13.00</td>\n",
       "      <td>25.0</td>\n",
       "      <td>38.00</td>\n",
       "      <td>50.0</td>\n",
       "    </tr>\n",
       "  </tbody>\n",
       "</table>\n",
       "</div>"
      ],
      "text/plain": [
       "                        count         mean          std   min     25%     50%  \\\n",
       "Customer ID            3900.0  1950.500000  1125.977353   1.0  975.75  1950.5   \n",
       "Age                    3900.0    44.068462    15.207589  18.0   31.00    44.0   \n",
       "Purchase Amount (USD)  3900.0    59.764359    23.685392  20.0   39.00    60.0   \n",
       "Review Rating          3900.0     3.749949     0.716223   2.5    3.10     3.7   \n",
       "Previous Purchases     3900.0    25.351538    14.447125   1.0   13.00    25.0   \n",
       "\n",
       "                           75%     max  \n",
       "Customer ID            2925.25  3900.0  \n",
       "Age                      57.00    70.0  \n",
       "Purchase Amount (USD)    81.00   100.0  \n",
       "Review Rating             4.40     5.0  \n",
       "Previous Purchases       38.00    50.0  "
      ]
     },
     "execution_count": 6,
     "metadata": {},
     "output_type": "execute_result"
    }
   ],
   "source": [
    "df.describe().T"
   ]
  },
  {
   "cell_type": "code",
   "execution_count": 7,
   "metadata": {
    "execution": {
     "iopub.execute_input": "2024-12-25T18:36:34.755497Z",
     "iopub.status.busy": "2024-12-25T18:36:34.755130Z",
     "iopub.status.idle": "2024-12-25T18:36:34.766367Z",
     "shell.execute_reply": "2024-12-25T18:36:34.765168Z",
     "shell.execute_reply.started": "2024-12-25T18:36:34.755468Z"
    },
    "trusted": true
   },
   "outputs": [
    {
     "data": {
      "text/plain": [
       "Customer ID                 0\n",
       "Age                         0\n",
       "Gender                      0\n",
       "Item Purchased              0\n",
       "Category                    0\n",
       "Purchase Amount (USD)       0\n",
       "Location                    0\n",
       "Size                        0\n",
       "Color                       0\n",
       "Season                      0\n",
       "Review Rating               0\n",
       "Subscription Status         0\n",
       "Payment Method              0\n",
       "Shipping Type               0\n",
       "Discount Applied            0\n",
       "Promo Code Used             0\n",
       "Previous Purchases          0\n",
       "Preferred Payment Method    0\n",
       "Frequency of Purchases      0\n",
       "dtype: int64"
      ]
     },
     "execution_count": 7,
     "metadata": {},
     "output_type": "execute_result"
    }
   ],
   "source": [
    "df.isnull().sum()"
   ]
  },
  {
   "cell_type": "code",
   "execution_count": 8,
   "metadata": {
    "execution": {
     "iopub.execute_input": "2024-12-25T18:45:33.929943Z",
     "iopub.status.busy": "2024-12-25T18:45:33.929561Z",
     "iopub.status.idle": "2024-12-25T18:45:34.190496Z",
     "shell.execute_reply": "2024-12-25T18:45:34.189049Z",
     "shell.execute_reply.started": "2024-12-25T18:45:33.929915Z"
    },
    "trusted": true
   },
   "outputs": [
    {
     "data": {
      "image/png": "[encoded data removed]",
      "text/plain": [
       "<Figure size 800x600 with 1 Axes>"
      ]
     },
     "metadata": {},
     "output_type": "display_data"
    }
   ],
   "source": [
    "plt.figure(figsize=(8,6))\n",
    "plt.hist(df[\"Age\"],bins=10, color= \"skyblue\",edgecolor=\"black\")\n",
    "plt.title(\"Age Distribution\")\n",
    "plt.xlabel(\"Age\")\n",
    "plt.ylabel(\"frequency\")\n",
    "plt.show()\n"
   ]
  },
  {
   "cell_type": "code",
   "execution_count": 9,
   "metadata": {
    "execution": {
     "iopub.execute_input": "2024-12-25T18:53:54.034800Z",
     "iopub.status.busy": "2024-12-25T18:53:54.034432Z",
     "iopub.status.idle": "2024-12-25T18:53:54.043171Z",
     "shell.execute_reply": "2024-12-25T18:53:54.041913Z",
     "shell.execute_reply.started": "2024-12-25T18:53:54.034770Z"
    },
    "trusted": true
   },
   "outputs": [
    {
     "data": {
      "text/plain": [
       "Gender\n",
       "Male      2652\n",
       "Female    1248\n",
       "Name: count, dtype: int64"
      ]
     },
     "execution_count": 9,
     "metadata": {},
     "output_type": "execute_result"
    }
   ],
   "source": [
    "gender_counts = df['Gender'].value_counts()\n",
    "gender_counts"
   ]
  },
  {
   "cell_type": "code",
   "execution_count": 10,
   "metadata": {
    "execution": {
     "iopub.execute_input": "2024-12-25T18:54:45.333138Z",
     "iopub.status.busy": "2024-12-25T18:54:45.332799Z",
     "iopub.status.idle": "2024-12-25T18:54:45.341784Z",
     "shell.execute_reply": "2024-12-25T18:54:45.340852Z",
     "shell.execute_reply.started": "2024-12-25T18:54:45.333115Z"
    },
    "trusted": true
   },
   "outputs": [
    {
     "data": {
      "text/plain": [
       "Gender\n",
       "Male      0.68\n",
       "Female    0.32\n",
       "Name: proportion, dtype: float64"
      ]
     },
     "execution_count": 10,
     "metadata": {},
     "output_type": "execute_result"
    }
   ],
   "source": [
    "df['Gender'].value_counts(normalize=True)"
   ]
  },
  {
   "cell_type": "code",
   "execution_count": 11,
   "metadata": {
    "execution": {
     "iopub.execute_input": "2024-12-25T18:57:10.643718Z",
     "iopub.status.busy": "2024-12-25T18:57:10.643324Z",
     "iopub.status.idle": "2024-12-25T18:57:10.879630Z",
     "shell.execute_reply": "2024-12-25T18:57:10.878626Z",
     "shell.execute_reply.started": "2024-12-25T18:57:10.643686Z"
    },
    "trusted": true
   },
   "outputs": [
    {
     "data": {
      "image/png": "[encoded data removed]",
      "text/plain": [
       "<Figure size 1000x400 with 2 Axes>"
      ]
     },
     "metadata": {},
     "output_type": "display_data"
    }
   ],
   "source": [
    "fig, axes = plt.subplots(1,2, figsize = (10,4))\n",
    "\n",
    "sns.countplot(data = df, x = 'Gender', palette = 'viridis', ax = axes[0])\n",
    "axes[0].set_title('Gender Count')\n",
    "axes[0].set_xlabel('Gender')\n",
    "axes[0].set_ylabel('Count')\n",
    "\n",
    "axes[1].pie(gender_counts, labels = gender_counts.index, autopct = '%1.1f%%')\n",
    "axes[1].set_title('Gender Distribution')\n",
    "plt.show()"
   ]
  },
  {
   "cell_type": "code",
   "execution_count": 12,
   "metadata": {
    "execution": {
     "iopub.execute_input": "2024-12-25T18:59:57.120214Z",
     "iopub.status.busy": "2024-12-25T18:59:57.119839Z",
     "iopub.status.idle": "2024-12-25T18:59:57.138902Z",
     "shell.execute_reply": "2024-12-25T18:59:57.137813Z",
     "shell.execute_reply.started": "2024-12-25T18:59:57.120187Z"
    },
    "trusted": true
   },
   "outputs": [
    {
     "data": {
      "text/html": [
       "<div>\n",
       "<style scoped>\n",
       "    .dataframe tbody tr th:only-of-type {\n",
       "        vertical-align: middle;\n",
       "    }\n",
       "\n",
       "    .dataframe tbody tr th {\n",
       "        vertical-align: top;\n",
       "    }\n",
       "\n",
       "    .dataframe thead th {\n",
       "        text-align: right;\n",
       "    }\n",
       "</style>\n",
       "<table border=\"1\" class=\"dataframe\">\n",
       "  <thead>\n",
       "    <tr style=\"text-align: right;\">\n",
       "      <th></th>\n",
       "      <th>Customer ID</th>\n",
       "      <th>Age</th>\n",
       "      <th>Gender</th>\n",
       "      <th>Item Purchased</th>\n",
       "      <th>Category</th>\n",
       "      <th>Purchase Amount (USD)</th>\n",
       "      <th>Location</th>\n",
       "      <th>Size</th>\n",
       "      <th>Color</th>\n",
       "      <th>Season</th>\n",
       "      <th>Review Rating</th>\n",
       "      <th>Subscription Status</th>\n",
       "      <th>Payment Method</th>\n",
       "      <th>Shipping Type</th>\n",
       "      <th>Discount Applied</th>\n",
       "      <th>Promo Code Used</th>\n",
       "      <th>Previous Purchases</th>\n",
       "      <th>Preferred Payment Method</th>\n",
       "      <th>Frequency of Purchases</th>\n",
       "    </tr>\n",
       "  </thead>\n",
       "  <tbody>\n",
       "    <tr>\n",
       "      <th>2957</th>\n",
       "      <td>2958</td>\n",
       "      <td>69</td>\n",
       "      <td>Female</td>\n",
       "      <td>Jewelry</td>\n",
       "      <td>Accessories</td>\n",
       "      <td>70</td>\n",
       "      <td>South Dakota</td>\n",
       "      <td>S</td>\n",
       "      <td>Gray</td>\n",
       "      <td>Fall</td>\n",
       "      <td>4.7</td>\n",
       "      <td>No</td>\n",
       "      <td>Cash</td>\n",
       "      <td>Standard</td>\n",
       "      <td>No</td>\n",
       "      <td>No</td>\n",
       "      <td>2</td>\n",
       "      <td>Cash</td>\n",
       "      <td>Annually</td>\n",
       "    </tr>\n",
       "  </tbody>\n",
       "</table>\n",
       "</div>"
      ],
      "text/plain": [
       "      Customer ID  Age  Gender Item Purchased     Category  \\\n",
       "2957         2958   69  Female        Jewelry  Accessories   \n",
       "\n",
       "      Purchase Amount (USD)      Location Size Color Season  Review Rating  \\\n",
       "2957                     70  South Dakota    S  Gray   Fall            4.7   \n",
       "\n",
       "     Subscription Status Payment Method Shipping Type Discount Applied  \\\n",
       "2957                  No           Cash      Standard               No   \n",
       "\n",
       "     Promo Code Used  Previous Purchases Preferred Payment Method  \\\n",
       "2957              No                   2                     Cash   \n",
       "\n",
       "     Frequency of Purchases  \n",
       "2957               Annually  "
      ]
     },
     "execution_count": 12,
     "metadata": {},
     "output_type": "execute_result"
    }
   ],
   "source": [
    "df.sample()"
   ]
  },
  {
   "cell_type": "code",
   "execution_count": 13,
   "metadata": {
    "execution": {
     "iopub.execute_input": "2024-12-25T19:03:39.769616Z",
     "iopub.status.busy": "2024-12-25T19:03:39.769206Z",
     "iopub.status.idle": "2024-12-25T19:03:39.929682Z",
     "shell.execute_reply": "2024-12-25T19:03:39.928176Z",
     "shell.execute_reply.started": "2024-12-25T19:03:39.769578Z"
    },
    "trusted": true
   },
   "outputs": [
    {
     "data": {
      "image/png": "[encoded data removed]",
      "text/plain": [
       "<Figure size 800x600 with 1 Axes>"
      ]
     },
     "metadata": {},
     "output_type": "display_data"
    }
   ],
   "source": [
    "plt.figure(figsize=(8,6))\n",
    "plt.pie(df['Category'].value_counts(), labels = df['Category'].unique(), autopct = '%1.2f%%')\n",
    "plt.title('Category Distribution')\n",
    "\n",
    "plt.show()"
   ]
  },
  {
   "cell_type": "code",
   "execution_count": 14,
   "metadata": {
    "execution": {
     "iopub.execute_input": "2024-12-25T19:04:33.322404Z",
     "iopub.status.busy": "2024-12-25T19:04:33.321920Z",
     "iopub.status.idle": "2024-12-25T19:04:33.335429Z",
     "shell.execute_reply": "2024-12-25T19:04:33.334297Z",
     "shell.execute_reply.started": "2024-12-25T19:04:33.322365Z"
    },
    "trusted": true
   },
   "outputs": [
    {
     "data": {
      "text/plain": [
       "count    3900.000000\n",
       "mean       59.764359\n",
       "std        23.685392\n",
       "min        20.000000\n",
       "25%        39.000000\n",
       "50%        60.000000\n",
       "75%        81.000000\n",
       "max       100.000000\n",
       "Name: Purchase Amount (USD), dtype: float64"
      ]
     },
     "execution_count": 14,
     "metadata": {},
     "output_type": "execute_result"
    }
   ],
   "source": [
    "df['Purchase Amount (USD)'].describe()"
   ]
  },
  {
   "cell_type": "code",
   "execution_count": 15,
   "metadata": {
    "execution": {
     "iopub.execute_input": "2024-12-25T19:09:37.018934Z",
     "iopub.status.busy": "2024-12-25T19:09:37.018561Z",
     "iopub.status.idle": "2024-12-25T19:09:37.424146Z",
     "shell.execute_reply": "2024-12-25T19:09:37.423082Z",
     "shell.execute_reply.started": "2024-12-25T19:09:37.018908Z"
    },
    "trusted": true
   },
   "outputs": [
    {
     "data": {
      "image/png": "[encoded data removed]",
      "text/plain": [
       "<Figure size 1200x400 with 2 Axes>"
      ]
     },
     "metadata": {},
     "output_type": "display_data"
    }
   ],
   "source": [
    "fig, axes = plt.subplots(1,2, figsize = (12,4))\n",
    "\n",
    "sns.histplot(data=df, x ='Purchase Amount (USD)', ax=axes[0], kde=True)\n",
    "sns.boxplot(data=df, x ='Purchase Amount (USD)', ax=axes[1])\n",
    "plt.show()"
   ]
  },
  {
   "cell_type": "code",
   "execution_count": 16,
   "metadata": {
    "execution": {
     "iopub.execute_input": "2024-12-25T19:10:10.029038Z",
     "iopub.status.busy": "2024-12-25T19:10:10.028683Z",
     "iopub.status.idle": "2024-12-25T19:10:10.046222Z",
     "shell.execute_reply": "2024-12-25T19:10:10.045263Z",
     "shell.execute_reply.started": "2024-12-25T19:10:10.029012Z"
    },
    "trusted": true
   },
   "outputs": [
    {
     "data": {
      "text/html": [
       "<div>\n",
       "<style scoped>\n",
       "    .dataframe tbody tr th:only-of-type {\n",
       "        vertical-align: middle;\n",
       "    }\n",
       "\n",
       "    .dataframe tbody tr th {\n",
       "        vertical-align: top;\n",
       "    }\n",
       "\n",
       "    .dataframe thead th {\n",
       "        text-align: right;\n",
       "    }\n",
       "</style>\n",
       "<table border=\"1\" class=\"dataframe\">\n",
       "  <thead>\n",
       "    <tr style=\"text-align: right;\">\n",
       "      <th></th>\n",
       "      <th>Customer ID</th>\n",
       "      <th>Age</th>\n",
       "      <th>Gender</th>\n",
       "      <th>Item Purchased</th>\n",
       "      <th>Category</th>\n",
       "      <th>Purchase Amount (USD)</th>\n",
       "      <th>Location</th>\n",
       "      <th>Size</th>\n",
       "      <th>Color</th>\n",
       "      <th>Season</th>\n",
       "      <th>Review Rating</th>\n",
       "      <th>Subscription Status</th>\n",
       "      <th>Payment Method</th>\n",
       "      <th>Shipping Type</th>\n",
       "      <th>Discount Applied</th>\n",
       "      <th>Promo Code Used</th>\n",
       "      <th>Previous Purchases</th>\n",
       "      <th>Preferred Payment Method</th>\n",
       "      <th>Frequency of Purchases</th>\n",
       "    </tr>\n",
       "  </thead>\n",
       "  <tbody>\n",
       "    <tr>\n",
       "      <th>3671</th>\n",
       "      <td>3672</td>\n",
       "      <td>62</td>\n",
       "      <td>Female</td>\n",
       "      <td>Handbag</td>\n",
       "      <td>Accessories</td>\n",
       "      <td>66</td>\n",
       "      <td>Illinois</td>\n",
       "      <td>L</td>\n",
       "      <td>Pink</td>\n",
       "      <td>Summer</td>\n",
       "      <td>4.8</td>\n",
       "      <td>No</td>\n",
       "      <td>Bank Transfer</td>\n",
       "      <td>2-Day Shipping</td>\n",
       "      <td>No</td>\n",
       "      <td>No</td>\n",
       "      <td>20</td>\n",
       "      <td>Venmo</td>\n",
       "      <td>Quarterly</td>\n",
       "    </tr>\n",
       "  </tbody>\n",
       "</table>\n",
       "</div>"
      ],
      "text/plain": [
       "      Customer ID  Age  Gender Item Purchased     Category  \\\n",
       "3671         3672   62  Female        Handbag  Accessories   \n",
       "\n",
       "      Purchase Amount (USD)  Location Size Color  Season  Review Rating  \\\n",
       "3671                     66  Illinois    L  Pink  Summer            4.8   \n",
       "\n",
       "     Subscription Status Payment Method   Shipping Type Discount Applied  \\\n",
       "3671                  No  Bank Transfer  2-Day Shipping               No   \n",
       "\n",
       "     Promo Code Used  Previous Purchases Preferred Payment Method  \\\n",
       "3671              No                  20                    Venmo   \n",
       "\n",
       "     Frequency of Purchases  \n",
       "3671              Quarterly  "
      ]
     },
     "execution_count": 16,
     "metadata": {},
     "output_type": "execute_result"
    }
   ],
   "source": [
    "df.sample()"
   ]
  },
  {
   "cell_type": "code",
   "execution_count": 17,
   "metadata": {
    "execution": {
     "iopub.execute_input": "2024-12-25T19:19:56.033721Z",
     "iopub.status.busy": "2024-12-25T19:19:56.033201Z",
     "iopub.status.idle": "2024-12-25T19:19:56.259225Z",
     "shell.execute_reply": "2024-12-25T19:19:56.258218Z",
     "shell.execute_reply.started": "2024-12-25T19:19:56.033682Z"
    },
    "trusted": true
   },
   "outputs": [
    {
     "data": {
      "image/png": "[encoded data removed]",
      "text/plain": [
       "<Figure size 800x600 with 1 Axes>"
      ]
     },
     "metadata": {},
     "output_type": "display_data"
    }
   ],
   "source": [
    "plt.figure(figsize = (8,6))\n",
    "\n",
    "ax = sns.countplot(x = df['Payment Method'])\n",
    "\n",
    "for i in ax.containers:\n",
    "    ax.bar_label(i)\n",
    "    \n",
    "plt.title('Count Payment Method')\n",
    "plt.show()"
   ]
  },
  {
   "cell_type": "code",
   "execution_count": 18,
   "metadata": {
    "execution": {
     "iopub.execute_input": "2024-12-25T19:27:22.157510Z",
     "iopub.status.busy": "2024-12-25T19:27:22.157122Z",
     "iopub.status.idle": "2024-12-25T19:27:22.332104Z",
     "shell.execute_reply": "2024-12-25T19:27:22.331011Z",
     "shell.execute_reply.started": "2024-12-25T19:27:22.157484Z"
    },
    "trusted": true
   },
   "outputs": [
    {
     "data": {
      "image/png": "[encoded data removed]",
      "text/plain": [
       "<Figure size 800x600 with 1 Axes>"
      ]
     },
     "metadata": {},
     "output_type": "display_data"
    }
   ],
   "source": [
    "plt.figure(figsize = (8,6))\n",
    "sns.countplot(data = df, x = 'Size', )\n",
    "plt.title(\"Size Distribution\")\n",
    "plt.show()"
   ]
  },
  {
   "cell_type": "code",
   "execution_count": 19,
   "metadata": {
    "execution": {
     "iopub.execute_input": "2024-12-25T19:30:42.021103Z",
     "iopub.status.busy": "2024-12-25T19:30:42.020717Z",
     "iopub.status.idle": "2024-12-25T19:30:42.045404Z",
     "shell.execute_reply": "2024-12-25T19:30:42.041845Z",
     "shell.execute_reply.started": "2024-12-25T19:30:42.021074Z"
    },
    "trusted": true
   },
   "outputs": [
    {
     "data": {
      "text/html": [
       "<div>\n",
       "<style scoped>\n",
       "    .dataframe tbody tr th:only-of-type {\n",
       "        vertical-align: middle;\n",
       "    }\n",
       "\n",
       "    .dataframe tbody tr th {\n",
       "        vertical-align: top;\n",
       "    }\n",
       "\n",
       "    .dataframe thead th {\n",
       "        text-align: right;\n",
       "    }\n",
       "</style>\n",
       "<table border=\"1\" class=\"dataframe\">\n",
       "  <thead>\n",
       "    <tr style=\"text-align: right;\">\n",
       "      <th></th>\n",
       "      <th>Customer ID</th>\n",
       "      <th>Age</th>\n",
       "      <th>Gender</th>\n",
       "      <th>Item Purchased</th>\n",
       "      <th>Category</th>\n",
       "      <th>Purchase Amount (USD)</th>\n",
       "      <th>Location</th>\n",
       "      <th>Size</th>\n",
       "      <th>Color</th>\n",
       "      <th>Season</th>\n",
       "      <th>Review Rating</th>\n",
       "      <th>Subscription Status</th>\n",
       "      <th>Payment Method</th>\n",
       "      <th>Shipping Type</th>\n",
       "      <th>Discount Applied</th>\n",
       "      <th>Promo Code Used</th>\n",
       "      <th>Previous Purchases</th>\n",
       "      <th>Preferred Payment Method</th>\n",
       "      <th>Frequency of Purchases</th>\n",
       "    </tr>\n",
       "  </thead>\n",
       "  <tbody>\n",
       "    <tr>\n",
       "      <th>3421</th>\n",
       "      <td>3422</td>\n",
       "      <td>57</td>\n",
       "      <td>Female</td>\n",
       "      <td>Shoes</td>\n",
       "      <td>Footwear</td>\n",
       "      <td>30</td>\n",
       "      <td>New Jersey</td>\n",
       "      <td>M</td>\n",
       "      <td>Maroon</td>\n",
       "      <td>Summer</td>\n",
       "      <td>2.9</td>\n",
       "      <td>No</td>\n",
       "      <td>PayPal</td>\n",
       "      <td>Free Shipping</td>\n",
       "      <td>No</td>\n",
       "      <td>No</td>\n",
       "      <td>27</td>\n",
       "      <td>PayPal</td>\n",
       "      <td>Weekly</td>\n",
       "    </tr>\n",
       "  </tbody>\n",
       "</table>\n",
       "</div>"
      ],
      "text/plain": [
       "      Customer ID  Age  Gender Item Purchased  Category  \\\n",
       "3421         3422   57  Female          Shoes  Footwear   \n",
       "\n",
       "      Purchase Amount (USD)    Location Size   Color  Season  Review Rating  \\\n",
       "3421                     30  New Jersey    M  Maroon  Summer            2.9   \n",
       "\n",
       "     Subscription Status Payment Method  Shipping Type Discount Applied  \\\n",
       "3421                  No         PayPal  Free Shipping               No   \n",
       "\n",
       "     Promo Code Used  Previous Purchases Preferred Payment Method  \\\n",
       "3421              No                  27                   PayPal   \n",
       "\n",
       "     Frequency of Purchases  \n",
       "3421                 Weekly  "
      ]
     },
     "execution_count": 19,
     "metadata": {},
     "output_type": "execute_result"
    }
   ],
   "source": [
    "df.sample()"
   ]
  },
  {
   "cell_type": "code",
   "execution_count": 20,
   "metadata": {
    "execution": {
     "iopub.execute_input": "2024-12-25T19:35:56.368685Z",
     "iopub.status.busy": "2024-12-25T19:35:56.368286Z",
     "iopub.status.idle": "2024-12-25T19:35:56.514584Z",
     "shell.execute_reply": "2024-12-25T19:35:56.512814Z",
     "shell.execute_reply.started": "2024-12-25T19:35:56.368657Z"
    },
    "trusted": true
   },
   "outputs": [
    {
     "data": {
      "image/png": "[encoded data removed]",
      "text/plain": [
       "<Figure size 800x600 with 1 Axes>"
      ]
     },
     "metadata": {},
     "output_type": "display_data"
    }
   ],
   "source": [
    "plt.figure(figsize = (8,6))\n",
    "plt.pie(df['Season'].value_counts(), labels = df['Season'].unique(), autopct = '%1.2f%%')\n",
    "plt.title(\"Sales Rate by Season\")\n",
    "plt.show()"
   ]
  },
  {
   "cell_type": "code",
   "execution_count": 21,
   "metadata": {
    "execution": {
     "iopub.execute_input": "2024-12-25T19:36:45.100199Z",
     "iopub.status.busy": "2024-12-25T19:36:45.099791Z",
     "iopub.status.idle": "2024-12-25T19:36:45.117033Z",
     "shell.execute_reply": "2024-12-25T19:36:45.116121Z",
     "shell.execute_reply.started": "2024-12-25T19:36:45.100168Z"
    },
    "trusted": true
   },
   "outputs": [
    {
     "data": {
      "text/html": [
       "<div>\n",
       "<style scoped>\n",
       "    .dataframe tbody tr th:only-of-type {\n",
       "        vertical-align: middle;\n",
       "    }\n",
       "\n",
       "    .dataframe tbody tr th {\n",
       "        vertical-align: top;\n",
       "    }\n",
       "\n",
       "    .dataframe thead th {\n",
       "        text-align: right;\n",
       "    }\n",
       "</style>\n",
       "<table border=\"1\" class=\"dataframe\">\n",
       "  <thead>\n",
       "    <tr style=\"text-align: right;\">\n",
       "      <th></th>\n",
       "      <th>Customer ID</th>\n",
       "      <th>Age</th>\n",
       "      <th>Gender</th>\n",
       "      <th>Item Purchased</th>\n",
       "      <th>Category</th>\n",
       "      <th>Purchase Amount (USD)</th>\n",
       "      <th>Location</th>\n",
       "      <th>Size</th>\n",
       "      <th>Color</th>\n",
       "      <th>Season</th>\n",
       "      <th>Review Rating</th>\n",
       "      <th>Subscription Status</th>\n",
       "      <th>Payment Method</th>\n",
       "      <th>Shipping Type</th>\n",
       "      <th>Discount Applied</th>\n",
       "      <th>Promo Code Used</th>\n",
       "      <th>Previous Purchases</th>\n",
       "      <th>Preferred Payment Method</th>\n",
       "      <th>Frequency of Purchases</th>\n",
       "    </tr>\n",
       "  </thead>\n",
       "  <tbody>\n",
       "    <tr>\n",
       "      <th>1860</th>\n",
       "      <td>1861</td>\n",
       "      <td>18</td>\n",
       "      <td>Male</td>\n",
       "      <td>T-shirt</td>\n",
       "      <td>Clothing</td>\n",
       "      <td>64</td>\n",
       "      <td>Kansas</td>\n",
       "      <td>M</td>\n",
       "      <td>Silver</td>\n",
       "      <td>Summer</td>\n",
       "      <td>4.8</td>\n",
       "      <td>No</td>\n",
       "      <td>Credit Card</td>\n",
       "      <td>Next Day Air</td>\n",
       "      <td>No</td>\n",
       "      <td>No</td>\n",
       "      <td>4</td>\n",
       "      <td>Credit Card</td>\n",
       "      <td>Monthly</td>\n",
       "    </tr>\n",
       "  </tbody>\n",
       "</table>\n",
       "</div>"
      ],
      "text/plain": [
       "      Customer ID  Age Gender Item Purchased  Category  Purchase Amount (USD)  \\\n",
       "1860         1861   18   Male        T-shirt  Clothing                     64   \n",
       "\n",
       "     Location Size   Color  Season  Review Rating Subscription Status  \\\n",
       "1860   Kansas    M  Silver  Summer            4.8                  No   \n",
       "\n",
       "     Payment Method Shipping Type Discount Applied Promo Code Used  \\\n",
       "1860    Credit Card  Next Day Air               No              No   \n",
       "\n",
       "      Previous Purchases Preferred Payment Method Frequency of Purchases  \n",
       "1860                   4              Credit Card                Monthly  "
      ]
     },
     "execution_count": 21,
     "metadata": {},
     "output_type": "execute_result"
    }
   ],
   "source": [
    "df.sample()"
   ]
  },
  {
   "cell_type": "code",
   "execution_count": 22,
   "metadata": {
    "execution": {
     "iopub.execute_input": "2024-12-25T19:45:31.057310Z",
     "iopub.status.busy": "2024-12-25T19:45:31.056848Z",
     "iopub.status.idle": "2024-12-25T19:45:31.270068Z",
     "shell.execute_reply": "2024-12-25T19:45:31.268970Z",
     "shell.execute_reply.started": "2024-12-25T19:45:31.057270Z"
    },
    "trusted": true
   },
   "outputs": [
    {
     "data": {
      "image/png": "[encoded data removed]",
      "text/plain": [
       "<Figure size 1000x600 with 1 Axes>"
      ]
     },
     "metadata": {},
     "output_type": "display_data"
    }
   ],
   "source": [
    "plt.figure(figsize=(10,6))\n",
    "sns.scatterplot(data=df, x='Purchase Amount (USD)', y='Review Rating')\n",
    "plt.show()\n"
   ]
  },
  {
   "cell_type": "code",
   "execution_count": 23,
   "metadata": {
    "execution": {
     "iopub.execute_input": "2024-12-25T19:47:02.750379Z",
     "iopub.status.busy": "2024-12-25T19:47:02.749835Z",
     "iopub.status.idle": "2024-12-25T19:47:02.770489Z",
     "shell.execute_reply": "2024-12-25T19:47:02.768290Z",
     "shell.execute_reply.started": "2024-12-25T19:47:02.750338Z"
    },
    "trusted": true
   },
   "outputs": [
    {
     "data": {
      "text/html": [
       "<div>\n",
       "<style scoped>\n",
       "    .dataframe tbody tr th:only-of-type {\n",
       "        vertical-align: middle;\n",
       "    }\n",
       "\n",
       "    .dataframe tbody tr th {\n",
       "        vertical-align: top;\n",
       "    }\n",
       "\n",
       "    .dataframe thead th {\n",
       "        text-align: right;\n",
       "    }\n",
       "</style>\n",
       "<table border=\"1\" class=\"dataframe\">\n",
       "  <thead>\n",
       "    <tr style=\"text-align: right;\">\n",
       "      <th></th>\n",
       "      <th>Customer ID</th>\n",
       "      <th>Age</th>\n",
       "      <th>Gender</th>\n",
       "      <th>Item Purchased</th>\n",
       "      <th>Category</th>\n",
       "      <th>Purchase Amount (USD)</th>\n",
       "      <th>Location</th>\n",
       "      <th>Size</th>\n",
       "      <th>Color</th>\n",
       "      <th>Season</th>\n",
       "      <th>Review Rating</th>\n",
       "      <th>Subscription Status</th>\n",
       "      <th>Payment Method</th>\n",
       "      <th>Shipping Type</th>\n",
       "      <th>Discount Applied</th>\n",
       "      <th>Promo Code Used</th>\n",
       "      <th>Previous Purchases</th>\n",
       "      <th>Preferred Payment Method</th>\n",
       "      <th>Frequency of Purchases</th>\n",
       "    </tr>\n",
       "  </thead>\n",
       "  <tbody>\n",
       "    <tr>\n",
       "      <th>3156</th>\n",
       "      <td>3157</td>\n",
       "      <td>18</td>\n",
       "      <td>Female</td>\n",
       "      <td>Shirt</td>\n",
       "      <td>Clothing</td>\n",
       "      <td>50</td>\n",
       "      <td>Montana</td>\n",
       "      <td>M</td>\n",
       "      <td>Black</td>\n",
       "      <td>Winter</td>\n",
       "      <td>3.1</td>\n",
       "      <td>No</td>\n",
       "      <td>Cash</td>\n",
       "      <td>2-Day Shipping</td>\n",
       "      <td>No</td>\n",
       "      <td>No</td>\n",
       "      <td>18</td>\n",
       "      <td>Cash</td>\n",
       "      <td>Monthly</td>\n",
       "    </tr>\n",
       "  </tbody>\n",
       "</table>\n",
       "</div>"
      ],
      "text/plain": [
       "      Customer ID  Age  Gender Item Purchased  Category  \\\n",
       "3156         3157   18  Female          Shirt  Clothing   \n",
       "\n",
       "      Purchase Amount (USD) Location Size  Color  Season  Review Rating  \\\n",
       "3156                     50  Montana    M  Black  Winter            3.1   \n",
       "\n",
       "     Subscription Status Payment Method   Shipping Type Discount Applied  \\\n",
       "3156                  No           Cash  2-Day Shipping               No   \n",
       "\n",
       "     Promo Code Used  Previous Purchases Preferred Payment Method  \\\n",
       "3156              No                  18                     Cash   \n",
       "\n",
       "     Frequency of Purchases  \n",
       "3156                Monthly  "
      ]
     },
     "execution_count": 23,
     "metadata": {},
     "output_type": "execute_result"
    }
   ],
   "source": [
    "df.sample()"
   ]
  },
  {
   "cell_type": "code",
   "execution_count": 40,
   "metadata": {
    "execution": {
     "iopub.execute_input": "2024-12-25T19:47:39.453650Z",
     "iopub.status.busy": "2024-12-25T19:47:39.453173Z",
     "iopub.status.idle": "2024-12-25T19:47:39.464327Z",
     "shell.execute_reply": "2024-12-25T19:47:39.462983Z",
     "shell.execute_reply.started": "2024-12-25T19:47:39.453618Z"
    },
    "trusted": true
   },
   "outputs": [
    {
     "data": {
      "text/plain": [
       "Location\n",
       "Montana       96\n",
       "California    95\n",
       "Idaho         93\n",
       "Illinois      92\n",
       "Alabama       89\n",
       "Minnesota     88\n",
       "Nebraska      87\n",
       "New York      87\n",
       "Nevada        87\n",
       "Maryland      86\n",
       "Name: count, dtype: int64"
      ]
     },
     "execution_count": 40,
     "metadata": {},
     "output_type": "execute_result"
    }
   ],
   "source": [
    "df['Location'].value_counts().head(10)"
   ]
  },
  {
   "cell_type": "code",
   "execution_count": 24,
   "metadata": {},
   "outputs": [
    {
     "name": "stdout",
     "output_type": "stream",
     "text": [
      "Requirement already satisfied: folium in c:\\users\\gaygi\\anaconda3\\lib\\site-packages (0.18.0)\n",
      "Requirement already satisfied: branca>=0.6.0 in c:\\users\\gaygi\\anaconda3\\lib\\site-packages (from folium) (0.8.0)\n",
      "Requirement already satisfied: jinja2>=2.9 in c:\\users\\gaygi\\anaconda3\\lib\\site-packages (from folium) (3.1.4)\n",
      "Requirement already satisfied: numpy in c:\\users\\gaygi\\anaconda3\\lib\\site-packages (from folium) (1.26.4)\n",
      "Requirement already satisfied: requests in c:\\users\\gaygi\\anaconda3\\lib\\site-packages (from folium) (2.32.3)\n",
      "Requirement already satisfied: xyzservices in c:\\users\\gaygi\\anaconda3\\lib\\site-packages (from folium) (2022.9.0)\n",
      "Requirement already satisfied: MarkupSafe>=2.0 in c:\\users\\gaygi\\anaconda3\\lib\\site-packages (from jinja2>=2.9->folium) (2.1.3)\n",
      "Requirement already satisfied: charset-normalizer<4,>=2 in c:\\users\\gaygi\\anaconda3\\lib\\site-packages (from requests->folium) (3.3.2)\n",
      "Requirement already satisfied: idna<4,>=2.5 in c:\\users\\gaygi\\anaconda3\\lib\\site-packages (from requests->folium) (3.7)\n",
      "Requirement already satisfied: urllib3<3,>=1.21.1 in c:\\users\\gaygi\\anaconda3\\lib\\site-packages (from requests->folium) (2.2.3)\n",
      "Requirement already satisfied: certifi>=2017.4.17 in c:\\users\\gaygi\\anaconda3\\lib\\site-packages (from requests->folium) (2024.8.30)\n"
     ]
    }
   ],
   "source": [
    "!pip install folium"
   ]
  },
  {
   "cell_type": "code",
   "execution_count": 25,
   "metadata": {},
   "outputs": [
    {
     "data": {
      "text/html": [
       "<div style=\"width:100%;\"><div style=\"position:relative;width:100%;height:0;padding-bottom:60%;\"><span style=\"color:#565656\">Make this Notebook Trusted to load map: File -> Trust Notebook</span><iframe srcdoc=\"&lt;!DOCTYPE html&gt;\n",
       "&lt;html&gt;\n",
       "&lt;head&gt;\n",
       "    \n",
       "    &lt;meta http-equiv=&quot;content-type&quot; content=&quot;text/html; charset=UTF-8&quot; /&gt;\n",
       "    \n",
       "        &lt;script&gt;\n",
       "            L_NO_TOUCH = false;\n",
       "            L_DISABLE_3D = false;\n",
       "        &lt;/script&gt;\n",
       "    \n",
       "    &lt;style&gt;html, body {width: 100%;height: 100%;margin: 0;padding: 0;}&lt;/style&gt;\n",
       "    &lt;style&gt;#map {position:absolute;top:0;bottom:0;right:0;left:0;}&lt;/style&gt;\n",
       "    &lt;script src=&quot;https://cdn.jsdelivr.net/npm/leaflet@1.9.3/dist/leaflet.js&quot;&gt;&lt;/script&gt;\n",
       "    &lt;script src=&quot;https://code.jquery.com/jquery-3.7.1.min.js&quot;&gt;&lt;/script&gt;\n",
       "    &lt;script src=&quot;https://cdn.jsdelivr.net/npm/bootstrap@5.2.2/dist/js/bootstrap.bundle.min.js&quot;&gt;&lt;/script&gt;\n",
       "    &lt;script src=&quot;https://cdnjs.cloudflare.com/ajax/libs/Leaflet.awesome-markers/2.0.2/leaflet.awesome-markers.js&quot;&gt;&lt;/script&gt;\n",
       "    &lt;link rel=&quot;stylesheet&quot; href=&quot;https://cdn.jsdelivr.net/npm/leaflet@1.9.3/dist/leaflet.css&quot;/&gt;\n",
       "    &lt;link rel=&quot;stylesheet&quot; href=&quot;https://cdn.jsdelivr.net/npm/bootstrap@5.2.2/dist/css/bootstrap.min.css&quot;/&gt;\n",
       "    &lt;link rel=&quot;stylesheet&quot; href=&quot;https://netdna.bootstrapcdn.com/bootstrap/3.0.0/css/bootstrap-glyphicons.css&quot;/&gt;\n",
       "    &lt;link rel=&quot;stylesheet&quot; href=&quot;https://cdn.jsdelivr.net/npm/@fortawesome/fontawesome-free@6.2.0/css/all.min.css&quot;/&gt;\n",
       "    &lt;link rel=&quot;stylesheet&quot; href=&quot;https://cdnjs.cloudflare.com/ajax/libs/Leaflet.awesome-markers/2.0.2/leaflet.awesome-markers.css&quot;/&gt;\n",
       "    &lt;link rel=&quot;stylesheet&quot; href=&quot;https://cdn.jsdelivr.net/gh/python-visualization/folium/folium/templates/leaflet.awesome.rotate.min.css&quot;/&gt;\n",
       "    \n",
       "            &lt;meta name=&quot;viewport&quot; content=&quot;width=device-width,\n",
       "                initial-scale=1.0, maximum-scale=1.0, user-scalable=no&quot; /&gt;\n",
       "            &lt;style&gt;\n",
       "                #map_75a52d75b2b935195613c0e2064abb50 {\n",
       "                    position: relative;\n",
       "                    width: 100.0%;\n",
       "                    height: 100.0%;\n",
       "                    left: 0.0%;\n",
       "                    top: 0.0%;\n",
       "                }\n",
       "                .leaflet-container { font-size: 1rem; }\n",
       "            &lt;/style&gt;\n",
       "        \n",
       "&lt;/head&gt;\n",
       "&lt;body&gt;\n",
       "    \n",
       "    \n",
       "            &lt;div class=&quot;folium-map&quot; id=&quot;map_75a52d75b2b935195613c0e2064abb50&quot; &gt;&lt;/div&gt;\n",
       "        \n",
       "&lt;/body&gt;\n",
       "&lt;script&gt;\n",
       "    \n",
       "    \n",
       "            var map_75a52d75b2b935195613c0e2064abb50 = L.map(\n",
       "                &quot;map_75a52d75b2b935195613c0e2064abb50&quot;,\n",
       "                {\n",
       "                    center: [37.0902, -95.7129],\n",
       "                    crs: L.CRS.EPSG3857,\n",
       "                    zoom: 5,\n",
       "                    zoomControl: true,\n",
       "                    preferCanvas: false,\n",
       "                }\n",
       "            );\n",
       "\n",
       "            \n",
       "\n",
       "        \n",
       "    \n",
       "            var tile_layer_63bb147e01961a11b4876b3486920d2a = L.tileLayer(\n",
       "                &quot;https://tile.openstreetmap.org/{z}/{x}/{y}.png&quot;,\n",
       "                {&quot;attribution&quot;: &quot;\\u0026copy; \\u003ca href=\\&quot;https://www.openstreetmap.org/copyright\\&quot;\\u003eOpenStreetMap\\u003c/a\\u003e contributors&quot;, &quot;detectRetina&quot;: false, &quot;maxNativeZoom&quot;: 19, &quot;maxZoom&quot;: 19, &quot;minZoom&quot;: 0, &quot;noWrap&quot;: false, &quot;opacity&quot;: 1, &quot;subdomains&quot;: &quot;abc&quot;, &quot;tms&quot;: false}\n",
       "            );\n",
       "        \n",
       "    \n",
       "            tile_layer_63bb147e01961a11b4876b3486920d2a.addTo(map_75a52d75b2b935195613c0e2064abb50);\n",
       "        \n",
       "    \n",
       "            var marker_b7d222ed92a49438407b557beac2dee4 = L.marker(\n",
       "                [47.3752671, -109.638757],\n",
       "                {}\n",
       "            ).addTo(map_75a52d75b2b935195613c0e2064abb50);\n",
       "        \n",
       "    \n",
       "            var icon_e029e052b4abcdb380312321a1f1a496 = L.AwesomeMarkers.icon(\n",
       "                {&quot;extraClasses&quot;: &quot;fa-rotate-0&quot;, &quot;icon&quot;: &quot;info-sign&quot;, &quot;iconColor&quot;: &quot;white&quot;, &quot;markerColor&quot;: &quot;blue&quot;, &quot;prefix&quot;: &quot;glyphicon&quot;}\n",
       "            );\n",
       "            marker_b7d222ed92a49438407b557beac2dee4.setIcon(icon_e029e052b4abcdb380312321a1f1a496);\n",
       "        \n",
       "    \n",
       "        var popup_ac8fd8c472e431bea7aedbcd421bcda4 = L.popup({&quot;maxWidth&quot;: &quot;100%&quot;});\n",
       "\n",
       "        \n",
       "            \n",
       "                var html_446a061900df7eaecf009f9e62757e20 = $(`&lt;div id=&quot;html_446a061900df7eaecf009f9e62757e20&quot; style=&quot;width: 100.0%; height: 100.0%;&quot;&gt;Montana: 96&lt;/div&gt;`)[0];\n",
       "                popup_ac8fd8c472e431bea7aedbcd421bcda4.setContent(html_446a061900df7eaecf009f9e62757e20);\n",
       "            \n",
       "        \n",
       "\n",
       "        marker_b7d222ed92a49438407b557beac2dee4.bindPopup(popup_ac8fd8c472e431bea7aedbcd421bcda4)\n",
       "        ;\n",
       "\n",
       "        \n",
       "    \n",
       "    \n",
       "            var marker_8a2cd4e0dc35ba53a2bed043f8142ce2 = L.marker(\n",
       "                [36.7014631, -118.755997],\n",
       "                {}\n",
       "            ).addTo(map_75a52d75b2b935195613c0e2064abb50);\n",
       "        \n",
       "    \n",
       "            var icon_6ec26e567c66191d8e05b88b0125f0a3 = L.AwesomeMarkers.icon(\n",
       "                {&quot;extraClasses&quot;: &quot;fa-rotate-0&quot;, &quot;icon&quot;: &quot;info-sign&quot;, &quot;iconColor&quot;: &quot;white&quot;, &quot;markerColor&quot;: &quot;blue&quot;, &quot;prefix&quot;: &quot;glyphicon&quot;}\n",
       "            );\n",
       "            marker_8a2cd4e0dc35ba53a2bed043f8142ce2.setIcon(icon_6ec26e567c66191d8e05b88b0125f0a3);\n",
       "        \n",
       "    \n",
       "        var popup_1b27493c7091944a4f5088c11e6e66ef = L.popup({&quot;maxWidth&quot;: &quot;100%&quot;});\n",
       "\n",
       "        \n",
       "            \n",
       "                var html_4888b5eaf82061a2eaff0eb96a3efe01 = $(`&lt;div id=&quot;html_4888b5eaf82061a2eaff0eb96a3efe01&quot; style=&quot;width: 100.0%; height: 100.0%;&quot;&gt;California: 95&lt;/div&gt;`)[0];\n",
       "                popup_1b27493c7091944a4f5088c11e6e66ef.setContent(html_4888b5eaf82061a2eaff0eb96a3efe01);\n",
       "            \n",
       "        \n",
       "\n",
       "        marker_8a2cd4e0dc35ba53a2bed043f8142ce2.bindPopup(popup_1b27493c7091944a4f5088c11e6e66ef)\n",
       "        ;\n",
       "\n",
       "        \n",
       "    \n",
       "    \n",
       "            var marker_8423ec8231e0fb785a1623848309d6cd = L.marker(\n",
       "                [43.6447642, -114.015407],\n",
       "                {}\n",
       "            ).addTo(map_75a52d75b2b935195613c0e2064abb50);\n",
       "        \n",
       "    \n",
       "            var icon_1cbeef26a124cb8487d43ac9cba1d0fc = L.AwesomeMarkers.icon(\n",
       "                {&quot;extraClasses&quot;: &quot;fa-rotate-0&quot;, &quot;icon&quot;: &quot;info-sign&quot;, &quot;iconColor&quot;: &quot;white&quot;, &quot;markerColor&quot;: &quot;blue&quot;, &quot;prefix&quot;: &quot;glyphicon&quot;}\n",
       "            );\n",
       "            marker_8423ec8231e0fb785a1623848309d6cd.setIcon(icon_1cbeef26a124cb8487d43ac9cba1d0fc);\n",
       "        \n",
       "    \n",
       "        var popup_e55417762c734b48c82423369e469772 = L.popup({&quot;maxWidth&quot;: &quot;100%&quot;});\n",
       "\n",
       "        \n",
       "            \n",
       "                var html_2bd443c0a176dc8ed9d523f5563f1e31 = $(`&lt;div id=&quot;html_2bd443c0a176dc8ed9d523f5563f1e31&quot; style=&quot;width: 100.0%; height: 100.0%;&quot;&gt;Idaho: 93&lt;/div&gt;`)[0];\n",
       "                popup_e55417762c734b48c82423369e469772.setContent(html_2bd443c0a176dc8ed9d523f5563f1e31);\n",
       "            \n",
       "        \n",
       "\n",
       "        marker_8423ec8231e0fb785a1623848309d6cd.bindPopup(popup_e55417762c734b48c82423369e469772)\n",
       "        ;\n",
       "\n",
       "        \n",
       "    \n",
       "    \n",
       "            var marker_a5c66ce56b7f2b3a0d678f73f95f64f1 = L.marker(\n",
       "                [40.0796606, -89.4337288],\n",
       "                {}\n",
       "            ).addTo(map_75a52d75b2b935195613c0e2064abb50);\n",
       "        \n",
       "    \n",
       "            var icon_15518f066878ba761805a91a49d2dc54 = L.AwesomeMarkers.icon(\n",
       "                {&quot;extraClasses&quot;: &quot;fa-rotate-0&quot;, &quot;icon&quot;: &quot;info-sign&quot;, &quot;iconColor&quot;: &quot;white&quot;, &quot;markerColor&quot;: &quot;blue&quot;, &quot;prefix&quot;: &quot;glyphicon&quot;}\n",
       "            );\n",
       "            marker_a5c66ce56b7f2b3a0d678f73f95f64f1.setIcon(icon_15518f066878ba761805a91a49d2dc54);\n",
       "        \n",
       "    \n",
       "        var popup_a937b30ab5d7e2830016ccebd1373e91 = L.popup({&quot;maxWidth&quot;: &quot;100%&quot;});\n",
       "\n",
       "        \n",
       "            \n",
       "                var html_41a4a9946341265419c2af4e18e85152 = $(`&lt;div id=&quot;html_41a4a9946341265419c2af4e18e85152&quot; style=&quot;width: 100.0%; height: 100.0%;&quot;&gt;Illinois: 92&lt;/div&gt;`)[0];\n",
       "                popup_a937b30ab5d7e2830016ccebd1373e91.setContent(html_41a4a9946341265419c2af4e18e85152);\n",
       "            \n",
       "        \n",
       "\n",
       "        marker_a5c66ce56b7f2b3a0d678f73f95f64f1.bindPopup(popup_a937b30ab5d7e2830016ccebd1373e91)\n",
       "        ;\n",
       "\n",
       "        \n",
       "    \n",
       "    \n",
       "            var marker_a874ece7305465335a681c2330d02285 = L.marker(\n",
       "                [33.2588817, -86.8295337],\n",
       "                {}\n",
       "            ).addTo(map_75a52d75b2b935195613c0e2064abb50);\n",
       "        \n",
       "    \n",
       "            var icon_ffa80986985451d366114d57e48d5088 = L.AwesomeMarkers.icon(\n",
       "                {&quot;extraClasses&quot;: &quot;fa-rotate-0&quot;, &quot;icon&quot;: &quot;info-sign&quot;, &quot;iconColor&quot;: &quot;white&quot;, &quot;markerColor&quot;: &quot;blue&quot;, &quot;prefix&quot;: &quot;glyphicon&quot;}\n",
       "            );\n",
       "            marker_a874ece7305465335a681c2330d02285.setIcon(icon_ffa80986985451d366114d57e48d5088);\n",
       "        \n",
       "    \n",
       "        var popup_8bd471d5316fbda52352a766f3e6cf66 = L.popup({&quot;maxWidth&quot;: &quot;100%&quot;});\n",
       "\n",
       "        \n",
       "            \n",
       "                var html_ad28f53855429e2376479b8099e08a3d = $(`&lt;div id=&quot;html_ad28f53855429e2376479b8099e08a3d&quot; style=&quot;width: 100.0%; height: 100.0%;&quot;&gt;Alabama: 89&lt;/div&gt;`)[0];\n",
       "                popup_8bd471d5316fbda52352a766f3e6cf66.setContent(html_ad28f53855429e2376479b8099e08a3d);\n",
       "            \n",
       "        \n",
       "\n",
       "        marker_a874ece7305465335a681c2330d02285.bindPopup(popup_8bd471d5316fbda52352a766f3e6cf66)\n",
       "        ;\n",
       "\n",
       "        \n",
       "    \n",
       "    \n",
       "            var marker_fd4cd9ef223e07e88bfb922749b713c4 = L.marker(\n",
       "                [45.9896587, -94.6113288],\n",
       "                {}\n",
       "            ).addTo(map_75a52d75b2b935195613c0e2064abb50);\n",
       "        \n",
       "    \n",
       "            var icon_ed14c8366e267c179c00a1ab95bd1acc = L.AwesomeMarkers.icon(\n",
       "                {&quot;extraClasses&quot;: &quot;fa-rotate-0&quot;, &quot;icon&quot;: &quot;info-sign&quot;, &quot;iconColor&quot;: &quot;white&quot;, &quot;markerColor&quot;: &quot;blue&quot;, &quot;prefix&quot;: &quot;glyphicon&quot;}\n",
       "            );\n",
       "            marker_fd4cd9ef223e07e88bfb922749b713c4.setIcon(icon_ed14c8366e267c179c00a1ab95bd1acc);\n",
       "        \n",
       "    \n",
       "        var popup_2e90f31f31da370f4a1c1e60516e2dc6 = L.popup({&quot;maxWidth&quot;: &quot;100%&quot;});\n",
       "\n",
       "        \n",
       "            \n",
       "                var html_658103262a8721af59f9996bcffbf614 = $(`&lt;div id=&quot;html_658103262a8721af59f9996bcffbf614&quot; style=&quot;width: 100.0%; height: 100.0%;&quot;&gt;Minnesota: 88&lt;/div&gt;`)[0];\n",
       "                popup_2e90f31f31da370f4a1c1e60516e2dc6.setContent(html_658103262a8721af59f9996bcffbf614);\n",
       "            \n",
       "        \n",
       "\n",
       "        marker_fd4cd9ef223e07e88bfb922749b713c4.bindPopup(popup_2e90f31f31da370f4a1c1e60516e2dc6)\n",
       "        ;\n",
       "\n",
       "        \n",
       "    \n",
       "    \n",
       "            var marker_42bb60e43451621267b2551b9614ff74 = L.marker(\n",
       "                [41.7370229, -99.5873816],\n",
       "                {}\n",
       "            ).addTo(map_75a52d75b2b935195613c0e2064abb50);\n",
       "        \n",
       "    \n",
       "            var icon_855659e92920790534785dd9548367a8 = L.AwesomeMarkers.icon(\n",
       "                {&quot;extraClasses&quot;: &quot;fa-rotate-0&quot;, &quot;icon&quot;: &quot;info-sign&quot;, &quot;iconColor&quot;: &quot;white&quot;, &quot;markerColor&quot;: &quot;blue&quot;, &quot;prefix&quot;: &quot;glyphicon&quot;}\n",
       "            );\n",
       "            marker_42bb60e43451621267b2551b9614ff74.setIcon(icon_855659e92920790534785dd9548367a8);\n",
       "        \n",
       "    \n",
       "        var popup_bab320160fe7f3c1e369e8303c6f1aab = L.popup({&quot;maxWidth&quot;: &quot;100%&quot;});\n",
       "\n",
       "        \n",
       "            \n",
       "                var html_7e819f057e5553ec424414cd14d167d7 = $(`&lt;div id=&quot;html_7e819f057e5553ec424414cd14d167d7&quot; style=&quot;width: 100.0%; height: 100.0%;&quot;&gt;Nebraska: 87&lt;/div&gt;`)[0];\n",
       "                popup_bab320160fe7f3c1e369e8303c6f1aab.setContent(html_7e819f057e5553ec424414cd14d167d7);\n",
       "            \n",
       "        \n",
       "\n",
       "        marker_42bb60e43451621267b2551b9614ff74.bindPopup(popup_bab320160fe7f3c1e369e8303c6f1aab)\n",
       "        ;\n",
       "\n",
       "        \n",
       "    \n",
       "    \n",
       "            var marker_4e2e7b6374672ac4427c747692afab78 = L.marker(\n",
       "                [40.7127281, -74.0060152],\n",
       "                {}\n",
       "            ).addTo(map_75a52d75b2b935195613c0e2064abb50);\n",
       "        \n",
       "    \n",
       "            var icon_a662e31a6fab1728468d2e2c4e880469 = L.AwesomeMarkers.icon(\n",
       "                {&quot;extraClasses&quot;: &quot;fa-rotate-0&quot;, &quot;icon&quot;: &quot;info-sign&quot;, &quot;iconColor&quot;: &quot;white&quot;, &quot;markerColor&quot;: &quot;blue&quot;, &quot;prefix&quot;: &quot;glyphicon&quot;}\n",
       "            );\n",
       "            marker_4e2e7b6374672ac4427c747692afab78.setIcon(icon_a662e31a6fab1728468d2e2c4e880469);\n",
       "        \n",
       "    \n",
       "        var popup_146b39d32131ea316632433236b1c834 = L.popup({&quot;maxWidth&quot;: &quot;100%&quot;});\n",
       "\n",
       "        \n",
       "            \n",
       "                var html_9108a2ec1a0dc9915a7d9ce1e8f7b392 = $(`&lt;div id=&quot;html_9108a2ec1a0dc9915a7d9ce1e8f7b392&quot; style=&quot;width: 100.0%; height: 100.0%;&quot;&gt;New York: 87&lt;/div&gt;`)[0];\n",
       "                popup_146b39d32131ea316632433236b1c834.setContent(html_9108a2ec1a0dc9915a7d9ce1e8f7b392);\n",
       "            \n",
       "        \n",
       "\n",
       "        marker_4e2e7b6374672ac4427c747692afab78.bindPopup(popup_146b39d32131ea316632433236b1c834)\n",
       "        ;\n",
       "\n",
       "        \n",
       "    \n",
       "    \n",
       "            var marker_00d42124f8fc7a68d0feeff81bbc70ab = L.marker(\n",
       "                [39.5158825, -116.853722],\n",
       "                {}\n",
       "            ).addTo(map_75a52d75b2b935195613c0e2064abb50);\n",
       "        \n",
       "    \n",
       "            var icon_7471c6c8947418c9936faf26c35623e8 = L.AwesomeMarkers.icon(\n",
       "                {&quot;extraClasses&quot;: &quot;fa-rotate-0&quot;, &quot;icon&quot;: &quot;info-sign&quot;, &quot;iconColor&quot;: &quot;white&quot;, &quot;markerColor&quot;: &quot;blue&quot;, &quot;prefix&quot;: &quot;glyphicon&quot;}\n",
       "            );\n",
       "            marker_00d42124f8fc7a68d0feeff81bbc70ab.setIcon(icon_7471c6c8947418c9936faf26c35623e8);\n",
       "        \n",
       "    \n",
       "        var popup_a50d2f082487eb856adf69ed8e859580 = L.popup({&quot;maxWidth&quot;: &quot;100%&quot;});\n",
       "\n",
       "        \n",
       "            \n",
       "                var html_b5dd46121b9c36a56c44717f75cab073 = $(`&lt;div id=&quot;html_b5dd46121b9c36a56c44717f75cab073&quot; style=&quot;width: 100.0%; height: 100.0%;&quot;&gt;Nevada: 87&lt;/div&gt;`)[0];\n",
       "                popup_a50d2f082487eb856adf69ed8e859580.setContent(html_b5dd46121b9c36a56c44717f75cab073);\n",
       "            \n",
       "        \n",
       "\n",
       "        marker_00d42124f8fc7a68d0feeff81bbc70ab.bindPopup(popup_a50d2f082487eb856adf69ed8e859580)\n",
       "        ;\n",
       "\n",
       "        \n",
       "    \n",
       "    \n",
       "            var marker_94c592d4034f8055bf013b1647cb7653 = L.marker(\n",
       "                [39.5162401, -76.9382069],\n",
       "                {}\n",
       "            ).addTo(map_75a52d75b2b935195613c0e2064abb50);\n",
       "        \n",
       "    \n",
       "            var icon_30215fd560e315702ca0ff90a768724c = L.AwesomeMarkers.icon(\n",
       "                {&quot;extraClasses&quot;: &quot;fa-rotate-0&quot;, &quot;icon&quot;: &quot;info-sign&quot;, &quot;iconColor&quot;: &quot;white&quot;, &quot;markerColor&quot;: &quot;blue&quot;, &quot;prefix&quot;: &quot;glyphicon&quot;}\n",
       "            );\n",
       "            marker_94c592d4034f8055bf013b1647cb7653.setIcon(icon_30215fd560e315702ca0ff90a768724c);\n",
       "        \n",
       "    \n",
       "        var popup_5f1690d7cc0ec5093f93ae44d765312c = L.popup({&quot;maxWidth&quot;: &quot;100%&quot;});\n",
       "\n",
       "        \n",
       "            \n",
       "                var html_bcf264645b061d37857a4c016f6785b0 = $(`&lt;div id=&quot;html_bcf264645b061d37857a4c016f6785b0&quot; style=&quot;width: 100.0%; height: 100.0%;&quot;&gt;Maryland: 86&lt;/div&gt;`)[0];\n",
       "                popup_5f1690d7cc0ec5093f93ae44d765312c.setContent(html_bcf264645b061d37857a4c016f6785b0);\n",
       "            \n",
       "        \n",
       "\n",
       "        marker_94c592d4034f8055bf013b1647cb7653.bindPopup(popup_5f1690d7cc0ec5093f93ae44d765312c)\n",
       "        ;\n",
       "\n",
       "        \n",
       "    \n",
       "    \n",
       "            tile_layer_63bb147e01961a11b4876b3486920d2a.addTo(map_75a52d75b2b935195613c0e2064abb50);\n",
       "        \n",
       "&lt;/script&gt;\n",
       "&lt;/html&gt;\" style=\"position:absolute;width:100%;height:100%;left:0;top:0;border:none !important;\" allowfullscreen webkitallowfullscreen mozallowfullscreen></iframe></div></div>"
      ],
      "text/plain": [
       "<folium.folium.Map at 0x22cb7e04c80>"
      ]
     },
     "execution_count": 25,
     "metadata": {},
     "output_type": "execute_result"
    }
   ],
   "source": [
    "import folium\n",
    "from geopy.geocoders import Nominatim\n",
    "\n",
    "data = {\n",
    "    \"Location\": [\"Montana\", \"California\", \"Idaho\", \"Illinois\", \"Alabama\", \n",
    "                 \"Minnesota\", \"Nebraska\", \"New York\", \"Nevada\", \"Maryland\"],\n",
    "    \"Score\": [96, 95, 93, 92, 89, 88, 87, 87, 87, 86]\n",
    "}\n",
    "\n",
    "geolocator = Nominatim(user_agent=\"state_location_map\")\n",
    "\n",
    "map_center = [37.0902, -95.7129]  \n",
    "m = folium.Map(location=map_center, zoom_start=5)\n",
    "\n",
    "for i, row in enumerate(data['Location']):\n",
    "    try:\n",
    "        location = geolocator.geocode(row + \", USA\", timeout=10)  \n",
    "        if location:\n",
    "            folium.Marker(\n",
    "                location=[location.latitude, location.longitude],\n",
    "                popup=f\"{row}: {data['Score'][i]}\",\n",
    "                icon=folium.Icon(color='blue', icon='info-sign')\n",
    "            ).add_to(m)\n",
    "    except Exception as e:\n",
    "        print(f\"Error with {row}: {e}\")\n",
    "\n",
    "m.save(\"state_location_map.html\")\n",
    "m"
   ]
  },
  {
   "cell_type": "markdown",
   "metadata": {},
   "source": [
    "# This data set was used for training purposes and the participants in the training;\n",
    "\n",
    "- https://www.kaggle.com/ozanmhrc\n",
    "- https://www.kaggle.com/masidekabakci\n",
    "- https://www.kaggle.com/teacherbabur\n",
    "- https://www.kaggle.com/hanifesin\n",
    "- https://www.kaggle.com/nuriyedezcan\n",
    "- https://www.kaggle.com/gaygisizsoegov\n",
    "- https://www.kaggle.com/fatmayerlikayazkurt\n",
    "- https://www.kaggle.com/semakurt"
   ]
  }
 ],
 "metadata": {
  "kaggle": {
   "accelerator": "none",
   "dataSources": [
    {
     "datasetId": 6149964,
     "sourceId": 9992547,
     "sourceType": "datasetVersion"
    }
   ],
   "dockerImageVersionId": 30822,
   "isGpuEnabled": false,
   "isInternetEnabled": false,
   "language": "python",
   "sourceType": "notebook"
  },
  "kernelspec": {
   "display_name": "base",
   "language": "python",
   "name": "python3"
  },
  "language_info": {
   "codemirror_mode": {
    "name": "ipython",
    "version": 3
   },
   "file_extension": ".py",
   "mimetype": "text/x-python",
   "name": "python",
   "nbconvert_exporter": "python",
   "pygments_lexer": "ipython3",
   "version": "3.12.7"
  }
 },
 "nbformat": 4,
 "nbformat_minor": 4
}
